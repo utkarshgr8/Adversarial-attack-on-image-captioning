{
  "nbformat": 4,
  "nbformat_minor": 0,
  "metadata": {
    "accelerator": "GPU",
    "colab": {
      "name": "AudioGeneration.ipynb",
      "provenance": [],
      "collapsed_sections": [],
      "toc_visible": true,
      "include_colab_link": true
    },
    "kernelspec": {
      "display_name": "Python 3",
      "name": "python3"
    }
  },
  "cells": [
    {
      "cell_type": "markdown",
      "metadata": {
        "id": "view-in-github",
        "colab_type": "text"
      },
      "source": [
        "<a href=\"https://colab.research.google.com/github/utkarshgr8/Adversarial-attack-on-image-captioning/blob/master/AudioGeneration.ipynb\" target=\"_parent\"><img src=\"https://colab.research.google.com/assets/colab-badge.svg\" alt=\"Open In Colab\"/></a>"
      ]
    },
    {
      "cell_type": "markdown",
      "metadata": {
        "id": "rF2x3qooyBTI"
      },
      "source": [
        "# Audio Generation using GAN"
      ]
    },
    {
      "cell_type": "markdown",
      "metadata": {
        "id": "ITZuApL56Mny"
      },
      "source": [
        "Following code demonstrates how to generate audio using a [Continuous recurrent neural networks with adversarial training](https://arxiv.org/pdf/1611.09904.pdf). The code is written using the [Keras Sequential API](https://www.tensorflow.org/guide/keras) with a `tf.GradientTape` training loop."
      ]
    },
    {
      "cell_type": "markdown",
      "metadata": {
        "id": "e1_Y75QXJS6h"
      },
      "source": [
        "### Setup"
      ]
    },
    {
      "cell_type": "code",
      "metadata": {
        "id": "sixecTpnyWiZ"
      },
      "source": [
        "import tensorflow as tf"
      ],
      "execution_count": null,
      "outputs": []
    },
    {
      "cell_type": "code",
      "metadata": {
        "id": "WZKbyU2-AiY-"
      },
      "source": [
        "from __future__ import print_function, division\r\n",
        "import librosa\r\n",
        "import pandas as pd\r\n",
        "import numpy as np\r\n",
        "import matplotlib.pyplot as plt\r\n",
        "%matplotlib inl\r\n",
        "from PIL import Image\r\n",
        "import pathlib\r\n",
        "import csv\r\n",
        "import keras\r\n",
        "from keras import layers\r\n",
        "from keras.models import Sequential\r\n",
        "from keras.layers import Input, Dense, Reshape, Flatten, Dropout, multiply\r\n",
        "from keras.layers import BatchNormalization, Activation, Embedding, ZeroPadding2D, LSTM\r\n",
        "from keras.layers.advanced_activations import LeakyReLU\r\n",
        "from keras.layers.convolutional import UpSampling2D, Conv2D, Conv1D, MaxPooling1D\r\n",
        "import sys, os\r\n",
        "import glob\r\n",
        "import uuid\r\n",
        "import ntpath\r\n",
        "from sys import getsizeof\r\n",
        "from scipy.io.wavfile import read, write\r\n",
        "import time\r\n",
        "from IPython import display\r\n"
      ],
      "execution_count": null,
      "outputs": []
    },
    {
      "cell_type": "code",
      "metadata": {
        "id": "wx-zNbLqB4K8",
        "colab": {
          "base_uri": "https://localhost:8080/",
          "height": 35
        },
        "outputId": "cc28a736-7e26-4726-e102-332df30bdda9"
      },
      "source": [
        "tf.__version__"
      ],
      "execution_count": null,
      "outputs": [
        {
          "output_type": "execute_result",
          "data": {
            "application/vnd.google.colaboratory.intrinsic+json": {
              "type": "string"
            },
            "text/plain": [
              "'2.4.0'"
            ]
          },
          "metadata": {
            "tags": []
          },
          "execution_count": 2
        }
      ]
    },
    {
      "cell_type": "code",
      "metadata": {
        "colab": {
          "base_uri": "https://localhost:8080/"
        },
        "id": "mW3q9gy7Fzww",
        "outputId": "c9e43bc5-27c2-44d5-c1c3-38139b85c946"
      },
      "source": [
        "from google.colab import drive\n",
        "drive.mount('/content/drive')"
      ],
      "execution_count": null,
      "outputs": [
        {
          "output_type": "stream",
          "text": [
            "Drive already mounted at /content/drive; to attempt to forcibly remount, call drive.mount(\"/content/drive\", force_remount=True).\n"
          ],
          "name": "stdout"
        }
      ]
    },
    {
      "cell_type": "markdown",
      "metadata": {
        "id": "iYn4MdZnKCey"
      },
      "source": [
        "### Load and prepare the dataset\n",
        "\n"
      ]
    },
    {
      "cell_type": "markdown",
      "metadata": {
        "id": "Fl63wj1MQhXT"
      },
      "source": [
        "The dataset used is drums(http://deepyeti.ucsd.edu/cdonahue/wavegan/data/drums.tar.gz) which contains around 3000 audio samples of drum sounds "
      ]
    },
    {
      "cell_type": "markdown",
      "metadata": {
        "id": "p5v_bptWShmX"
      },
      "source": [
        "we first process the audio files and convert them into spectogram which are further used in training the GAN"
      ]
    },
    {
      "cell_type": "code",
      "metadata": {
        "id": "GuBcnAZEuCV5"
      },
      "source": [
        "import tarfile\r\n",
        "my_tar = tarfile.open('/content/drums.tar.gz')\r\n",
        "my_tar.extractall('/content/afile') # specify which folder to extract to\r\n",
        "my_tar.close()"
      ],
      "execution_count": null,
      "outputs": []
    },
    {
      "cell_type": "code",
      "metadata": {
        "colab": {
          "base_uri": "https://localhost:8080/",
          "height": 34
        },
        "id": "B7P0lO40uB-I",
        "outputId": "e1fb8ad9-70ae-4b21-c139-4e8ce3e8993a"
      },
      "source": [
        "cmap = plt.get_cmap('inferno')\r\n",
        "for g in ['train','test','valid']:\r\n",
        "  pathlib.Path(f'img_data').mkdir(parents=True, exist_ok=True)\r\n",
        "  for filename in os.listdir(f'/content/afile/drums/{g}'):\r\n",
        "    songname=f'/content/afile/drums/{g}/{filename}'\r\n",
        "    y, sr = librosa.load(songname, mono=True, duration=5)\r\n",
        "    plt.specgram(y, NFFT=2048, Fs=2, Fc=0, noverlap=128, cmap=cmap, sides='default', mode='default', scale='dB');\r\n",
        "    plt.axis('off');\r\n",
        "    plt.savefig(f'img_data/{filename[:-3].replace(\".\", \"\")}.png')\r\n",
        "    plt.clf()\r\n",
        "  \r\n",
        "  \r\n",
        "\r\n",
        "\r\n",
        "\r\n"
      ],
      "execution_count": null,
      "outputs": [
        {
          "output_type": "display_data",
          "data": {
            "text/plain": [
              "<Figure size 432x288 with 0 Axes>"
            ]
          },
          "metadata": {
            "tags": []
          }
        }
      ]
    },
    {
      "cell_type": "code",
      "metadata": {
        "colab": {
          "base_uri": "https://localhost:8080/"
        },
        "id": "6amXz5C0Eu2a",
        "outputId": "b45af1f3-6aa9-4d40-91b2-8b7d5106cb99"
      },
      "source": [
        "train_images=[]\r\n",
        "from PIL import Image\r\n",
        "from numpy import asarray \r\n",
        "from numpy import array\r\n",
        "a=0\r\n",
        "for img_path in os.listdir(f'/content/img_data/train'):\r\n",
        "   Img_path=f'/content/img_data/train/{img_path}'\r\n",
        "   img=Image.open(Img_path)\r\n",
        "   new_img=asarray(img)\r\n",
        "   train_images.append(new_img)\r\n",
        "train_images=array(train_images)\r\n",
        "train_images.shape\r\n"
      ],
      "execution_count": null,
      "outputs": [
        {
          "output_type": "execute_result",
          "data": {
            "text/plain": [
              "(2350, 288, 432, 4)"
            ]
          },
          "metadata": {
            "tags": []
          },
          "execution_count": 41
        }
      ]
    },
    {
      "cell_type": "code",
      "metadata": {
        "id": "NFC2ghIdiZYE"
      },
      "source": [
        "train_images = train_images.reshape(9400,432,288).astype('float32')\n",
        "train_images = (train_images - 127.5) / 127.5 # Normalize the images to [-1, 1]"
      ],
      "execution_count": null,
      "outputs": []
    },
    {
      "cell_type": "markdown",
      "metadata": {
        "id": "THY-sZMiQ4UV"
      },
      "source": [
        "## Create the models\n",
        "\n",
        "Both the generator and discriminator are defined using the [Keras Sequential API](https://www.tensorflow.org/guide/keras#sequential_model)."
      ]
    },
    {
      "cell_type": "markdown",
      "metadata": {
        "id": "y7RfhRlnTG52"
      },
      "source": [
        "# The Generator"
      ]
    },
    {
      "cell_type": "code",
      "metadata": {
        "id": "6bpTcDqoLWjY"
      },
      "source": [
        "from keras.models import Model\n",
        "frame_size=500\n",
        "frame_shift=128\n",
        "audio_shape=(frame_size, 256)\n",
        "\n",
        "def make_generator_model():\n",
        "    model = Sequential()\n",
        "    model.add(LSTM(256, input_shape=np.array(audio_shape), return_sequences=True))\n",
        "    model.add(Dropout(0.3))\n",
        "    model.add(LSTM(256, return_sequences=True))\n",
        "    model.add(Dropout(0.3))\n",
        "    model.add(LSTM(256))\n",
        "    model.add(Dense(256))\n",
        "    model.add(Dropout(0.3))\n",
        "    model.add(Dense(256*frame_size))\n",
        "    model.add(Activation('softmax'))\n",
        "    model.add(Reshape((frame_size, 256)))\n",
        "\n",
        "    model.summary()\n",
        "\n",
        "    noise = Input(shape=audio_shape)\n",
        "\n",
        "    sound = model(noise)\n",
        "\n",
        "    return Model(noise, sound)"
      ],
      "execution_count": null,
      "outputs": []
    },
    {
      "cell_type": "markdown",
      "metadata": {
        "id": "GyWgG09LCSJl"
      },
      "source": [
        "Use the (as yet untrained) generator to create an image."
      ]
    },
    {
      "cell_type": "code",
      "metadata": {
        "id": "gl7jcC7TdPTG",
        "colab": {
          "base_uri": "https://localhost:8080/"
        },
        "outputId": "996eeff3-c8b6-4ab9-fff1-720849a2d8ad"
      },
      "source": [
        "generator = make_generator_model()\n",
        "print(generator.output_shape)\n",
        "noise = Input(shape=audio_shape)\n",
        "generated_image = generator(noise,training=False)\n",
        "print(generated_image)\n",
        "#plt.imshow(generated_image, cmap='gray')"
      ],
      "execution_count": null,
      "outputs": [
        {
          "output_type": "stream",
          "text": [
            "Model: \"sequential_6\"\n",
            "_________________________________________________________________\n",
            "Layer (type)                 Output Shape              Param #   \n",
            "=================================================================\n",
            "lstm_15 (LSTM)               (None, 500, 256)          525312    \n",
            "_________________________________________________________________\n",
            "dropout_15 (Dropout)         (None, 500, 256)          0         \n",
            "_________________________________________________________________\n",
            "lstm_16 (LSTM)               (None, 500, 256)          525312    \n",
            "_________________________________________________________________\n",
            "dropout_16 (Dropout)         (None, 500, 256)          0         \n",
            "_________________________________________________________________\n",
            "lstm_17 (LSTM)               (None, 256)               525312    \n",
            "_________________________________________________________________\n",
            "dense_10 (Dense)             (None, 256)               65792     \n",
            "_________________________________________________________________\n",
            "dropout_17 (Dropout)         (None, 256)               0         \n",
            "_________________________________________________________________\n",
            "dense_11 (Dense)             (None, 128000)            32896000  \n",
            "_________________________________________________________________\n",
            "activation_5 (Activation)    (None, 128000)            0         \n",
            "_________________________________________________________________\n",
            "reshape_5 (Reshape)          (None, 500, 256)          0         \n",
            "=================================================================\n",
            "Total params: 34,537,728\n",
            "Trainable params: 34,537,728\n",
            "Non-trainable params: 0\n",
            "_________________________________________________________________\n",
            "(None, 500, 256)\n",
            "KerasTensor(type_spec=TensorSpec(shape=(None, 500, 256), dtype=tf.float32, name=None), name='model_5/sequential_6/reshape_5/Reshape:0', description=\"created by layer 'model_5'\")\n"
          ],
          "name": "stdout"
        }
      ]
    },
    {
      "cell_type": "markdown",
      "metadata": {
        "id": "D0IKnaCtg6WE"
      },
      "source": [
        "### The Discriminator\n",
        "\n",
        "The discriminator is a CNN-based image classifier."
      ]
    },
    {
      "cell_type": "code",
      "metadata": {
        "id": "dw2tPLmk2pEP"
      },
      "source": [
        "def make_discriminator_model():\n",
        "    model = Sequential()\n",
        "    model.add(Conv1D(32, kernel_size=(2), padding=\"same\", input_shape=audio_shape))\n",
        "    model.add(MaxPooling1D(pool_size=(2)))\n",
        "    model.add(Dropout(0.25))\n",
        "    model.add(Dense(128, activation='relu'))\n",
        "    model.add(Dropout(0.25))\n",
        "    model.add(Dense(128))\n",
        "\n",
        "    model.summary()\n",
        "\n",
        "    audio = Input(shape=audio_shape)\n",
        "\n",
        "    # Extract feature representation\n",
        "    features = model(audio)\n",
        "\n",
        "    # Determine validity and label of the audio\n",
        "    validity = Dense(1, activation=\"sigmoid\")(features)\n",
        "\n",
        "    return Model(audio, validity)\n"
      ],
      "execution_count": null,
      "outputs": []
    },
    {
      "cell_type": "markdown",
      "metadata": {
        "id": "QhPneagzCaQv"
      },
      "source": [
        "Use the (as yet untrained) discriminator to classify the generated images as real or fake. The model will be trained to output positive values for real images, and negative values for fake images."
      ]
    },
    {
      "cell_type": "code",
      "metadata": {
        "id": "gDkA05NE6QMs"
      },
      "source": [
        "discriminator = make_discriminator_model()\n",
        "decision = discriminator(generated_image)\n",
        "print (decision)"
      ],
      "execution_count": null,
      "outputs": []
    },
    {
      "cell_type": "markdown",
      "metadata": {
        "id": "0FMYgY_mPfTi"
      },
      "source": [
        "## Define the loss and optimizers\n",
        "\n",
        "Define loss functions and optimizers for both models.\n"
      ]
    },
    {
      "cell_type": "code",
      "metadata": {
        "id": "psQfmXxYKU3X"
      },
      "source": [
        "# This method returns a helper function to compute cross entropy loss\n",
        "cross_entropy = tf.keras.losses.BinaryCrossentropy(from_logits=True)"
      ],
      "execution_count": null,
      "outputs": []
    },
    {
      "cell_type": "markdown",
      "metadata": {
        "id": "PKY_iPSPNWoj"
      },
      "source": [
        "### Discriminator loss\n",
        "\n",
        "This method quantifies how well the discriminator is able to distinguish real images from fakes. It compares the discriminator's predictions on real images to an array of 1s, and the discriminator's predictions on fake (generated) images to an array of 0s."
      ]
    },
    {
      "cell_type": "code",
      "metadata": {
        "id": "wkMNfBWlT-PV"
      },
      "source": [
        "def discriminator_loss(real_output, fake_output):\n",
        "    real_loss = cross_entropy(tf.ones_like(real_output), real_output)\n",
        "    fake_loss = cross_entropy(tf.zeros_like(fake_output), fake_output)\n",
        "    total_loss = real_loss + fake_loss\n",
        "    return total_loss"
      ],
      "execution_count": null,
      "outputs": []
    },
    {
      "cell_type": "markdown",
      "metadata": {
        "id": "Jd-3GCUEiKtv"
      },
      "source": [
        "### Generator loss\n",
        "The generator's loss quantifies how well it was able to trick the discriminator. Intuitively, if the generator is performing well, the discriminator will classify the fake images as real (or 1). Here, we will compare the discriminators decisions on the generated images to an array of 1s."
      ]
    },
    {
      "cell_type": "code",
      "metadata": {
        "id": "90BIcCKcDMxz"
      },
      "source": [
        "def generator_loss(fake_output):\n",
        "    return cross_entropy(tf.ones_like(fake_output), fake_output)"
      ],
      "execution_count": null,
      "outputs": []
    },
    {
      "cell_type": "markdown",
      "metadata": {
        "id": "MgIc7i0th_Iu"
      },
      "source": [
        "The discriminator and the generator optimizers are different since we will train two networks separately."
      ]
    },
    {
      "cell_type": "code",
      "metadata": {
        "id": "iWCn_PVdEJZ7"
      },
      "source": [
        "generator_optimizer = tf.keras.optimizers.Adam(0.0002,0.5)\n",
        "discriminator_optimizer = tf.keras.optimizers.Adam(0.0002,0.5)"
      ],
      "execution_count": null,
      "outputs": []
    },
    {
      "cell_type": "markdown",
      "metadata": {
        "id": "mWtinsGDPJlV"
      },
      "source": [
        "### Save checkpoints\n",
        "This notebook also demonstrates how to save and restore models, which can be helpful in case a long running training task is interrupted."
      ]
    },
    {
      "cell_type": "code",
      "metadata": {
        "id": "CA1w-7s2POEy"
      },
      "source": [
        "checkpoint_dir = './training_checkpoints'\n",
        "checkpoint_prefix = os.path.join(checkpoint_dir, \"ckpt\")\n",
        "checkpoint = tf.train.Checkpoint(generator_optimizer=generator_optimizer,\n",
        "                                 discriminator_optimizer=discriminator_optimizer,\n",
        "                                 generator=generator,\n",
        "                                 discriminator=discriminator)"
      ],
      "execution_count": null,
      "outputs": []
    },
    {
      "cell_type": "markdown",
      "metadata": {
        "id": "Rw1fkAczTQYh"
      },
      "source": [
        "## Define the training loop\n"
      ]
    },
    {
      "cell_type": "code",
      "metadata": {
        "id": "NS2GWywBbAWo"
      },
      "source": [
        "EPOCHS = 50\n",
        "noise_dim = 100\n",
        "num_examples_to_generate = 16\n",
        "\n",
        "# We will reuse this seed overtime (so it's easier)\n",
        "# to visualize progress in the animated GIF)\n",
        "seed = tf.random.normal([num_examples_to_generate, noise_dim])"
      ],
      "execution_count": null,
      "outputs": []
    },
    {
      "cell_type": "markdown",
      "metadata": {
        "id": "jylSonrqSWfi"
      },
      "source": [
        "The training loop begins with generator receiving a random seed as input. That seed is used to produce an image. The discriminator is then used to classify real images (drawn from the training set) and fakes images (produced by the generator). The loss is calculated for each of these models, and the gradients are used to update the generator and discriminator."
      ]
    },
    {
      "cell_type": "code",
      "metadata": {
        "id": "3t5ibNo05jCB"
      },
      "source": [
        "# Notice the use of `tf.function`\n",
        "# This annotation causes the function to be \"compiled\".\n",
        "@tf.function\n",
        "def train_step(images):\n",
        "    noise = tf.random.normal([BATCH_SIZE, noise_dim])\n",
        "\n",
        "    with tf.GradientTape() as gen_tape, tf.GradientTape() as disc_tape:\n",
        "      generated_images = generator(noise, training=True)\n",
        "\n",
        "      real_output = discriminator(images, training=True)\n",
        "      fake_output = discriminator(generated_images, training=True)\n",
        "\n",
        "      gen_loss = generator_loss(fake_output)\n",
        "      disc_loss = discriminator_loss(real_output, fake_output)\n",
        "\n",
        "    gradients_of_generator = gen_tape.gradient(gen_loss, generator.trainable_variables)\n",
        "    gradients_of_discriminator = disc_tape.gradient(disc_loss, discriminator.trainable_variables)\n",
        "\n",
        "    generator_optimizer.apply_gradients(zip(gradients_of_generator, generator.trainable_variables))\n",
        "    discriminator_optimizer.apply_gradients(zip(gradients_of_discriminator, discriminator.trainable_variables))"
      ],
      "execution_count": null,
      "outputs": []
    },
    {
      "cell_type": "code",
      "metadata": {
        "id": "2M7LmLtGEMQJ"
      },
      "source": [
        "def train(dataset, epochs):\n",
        "  for epoch in range(epochs):\n",
        "    start = time.time()\n",
        "\n",
        "    for image_batch in dataset:\n",
        "      train_step(image_batch)\n",
        "\n",
        "    # Produce images for the GIF as we go\n",
        "    display.clear_output(wait=True)\n",
        "    generate_and_save_images(generator,\n",
        "                             epoch + 1,\n",
        "                             seed)\n",
        "\n",
        "    # Save the model every 15 epochs\n",
        "    if (epoch + 1) % 15 == 0:\n",
        "      checkpoint.save(file_prefix = checkpoint_prefix)\n",
        "\n",
        "    print ('Time for epoch {} is {} sec'.format(epoch + 1, time.time()-start))\n",
        "\n",
        "  # Generate after the final epoch\n",
        "  display.clear_output(wait=True)\n",
        "  generate_and_save_images(generator,\n",
        "                           epochs,\n",
        "                           seed)"
      ],
      "execution_count": null,
      "outputs": []
    },
    {
      "cell_type": "markdown",
      "metadata": {
        "id": "2aFF7Hk3XdeW"
      },
      "source": [
        "**Generate and save images**\n"
      ]
    },
    {
      "cell_type": "code",
      "metadata": {
        "id": "RmdVsmvhPxyy"
      },
      "source": [
        "def generate_and_save_images(model, epoch, test_input):\n",
        "  # Notice `training` is set to False.\n",
        "  # This is so all layers run in inference mode (batchnorm).\n",
        "  predictions = model(test_input, training=False)\n",
        "\n",
        "  fig = plt.figure(figsize=(4,4))\n",
        "\n",
        "  for i in range(predictions.shape[0]):\n",
        "      plt.subplot(4, 4, i+1)\n",
        "      plt.imshow(predictions[i, :, :, 0] * 127.5 + 127.5, cmap='gray')\n",
        "      plt.axis('off')\n",
        "\n",
        "  plt.savefig('image_at_epoch_{:04d}.png'.format(epoch))\n",
        "  plt.show()"
      ],
      "execution_count": null,
      "outputs": []
    },
    {
      "cell_type": "markdown",
      "metadata": {
        "id": "dZrd4CdjR-Fp"
      },
      "source": [
        "## Train the model\n",
        "Call the `train()` method defined above to train the generator and discriminator simultaneously. Note, training GANs can be tricky. It's important that the generator and discriminator do not overpower each other (e.g., that they train at a similar rate).\n",
        "\n",
        "At the beginning of the training, the generated images look like random noise. As training progresses, the generated digits will look increasingly real. After about 50 epochs, they start to resemble the dataset. This may take about one minute / epoch with the default settings on Colab."
      ]
    },
    {
      "cell_type": "code",
      "metadata": {
        "id": "Ly3UN0SLLY2l"
      },
      "source": [
        "train(train_dataset, EPOCHS)"
      ],
      "execution_count": null,
      "outputs": []
    },
    {
      "cell_type": "markdown",
      "metadata": {
        "id": "rfM4YcPVPkNO"
      },
      "source": [
        "Restore the latest checkpoint."
      ]
    },
    {
      "cell_type": "code",
      "metadata": {
        "id": "XhXsd0srPo8c"
      },
      "source": [
        "checkpoint.restore(tf.train.latest_checkpoint(checkpoint_dir))"
      ],
      "execution_count": null,
      "outputs": []
    },
    {
      "cell_type": "markdown",
      "metadata": {
        "id": "JxdVOqfMMWo5"
      },
      "source": [
        ""
      ]
    },
    {
      "cell_type": "code",
      "metadata": {
        "id": "BCK2-HxCMV6P"
      },
      "source": [
        "def get_audio_from_model(model, sr, duration, frame_size):\r\n",
        "    print ('Generating audio...')\r\n",
        "    print ('Sample rate: ' + str(sr))\r\n",
        "    new_audio = np.zeros((sr * duration))\r\n",
        "    curr_sample_idx = 0\r\n",
        "    while curr_sample_idx < new_audio.shape[0]:\r\n",
        "        pred_audio = model.predict(np.random.normal(0, 1, (1, frame_size, 256)))\r\n",
        "        for i in range(pred_audio.shape[1]):\r\n",
        "            curr_sample_idx += 1\r\n",
        "            if curr_sample_idx > len(new_audio)-1:\r\n",
        "                print('Exiting loop')\r\n",
        "                break\r\n",
        "            pred_audio_sample = pred_audio[0,i,:]\r\n",
        "\r\n",
        "            pred_audio_sample = pred_audio_sample.reshape(256)\r\n",
        "            pred_audio_sample /= pred_audio_sample.sum().astype(float)\r\n",
        "            predicted_val = np.random.choice(range(256), p=pred_audio_sample)\r\n",
        "            ampl_val_8 = ((((predicted_val) / 255.0) - 0.5) * 2.0)\r\n",
        "            ampl_val_16 = (np.sign(ampl_val_8) * (1/256.0) * ((1 + 256.0)**abs(ampl_val_8) - 1)) * 2**15\r\n",
        "\r\n",
        "            new_audio[curr_sample_idx] = ampl_val_16\r\n",
        "\r\n",
        "            pc_str = str(round(100*curr_sample_idx/float(new_audio.shape[0]), 2))\r\n",
        "\r\n",
        "            sys.stdout.write('Percent complete: ' + pc_str + '\\r')\r\n",
        "            sys.stdout.flush()\r\n",
        "\r\n",
        "\r\n",
        "    print ('Audio generated.')\r\n",
        "    return np.array(new_audio, dtype=np.int16)"
      ],
      "execution_count": null,
      "outputs": []
    }
  ]
}